{
  "nbformat": 4,
  "nbformat_minor": 0,
  "metadata": {
    "colab": {
      "provenance": [],
      "authorship_tag": "ABX9TyM//tcco9PNLv8Rx4u5qjmT",
      "include_colab_link": true
    },
    "kernelspec": {
      "name": "python3",
      "display_name": "Python 3"
    },
    "language_info": {
      "name": "python"
    }
  },
  "cells": [
    {
      "cell_type": "markdown",
      "metadata": {
        "id": "view-in-github",
        "colab_type": "text"
      },
      "source": [
        "<a href=\"https://colab.research.google.com/github/betozap/estudos_pos/blob/main/Regressao_logistica.ipynb\" target=\"_parent\"><img src=\"https://colab.research.google.com/assets/colab-badge.svg\" alt=\"Open In Colab\"/></a>"
      ]
    },
    {
      "cell_type": "code",
      "execution_count": 26,
      "metadata": {
        "colab": {
          "base_uri": "https://localhost:8080/"
        },
        "id": "KyTJbyqFLJ2V",
        "outputId": "eae42283-1b7d-484b-9e48-c36a0085fcab"
      },
      "outputs": [
        {
          "output_type": "execute_result",
          "data": {
            "text/plain": [
              "0.8177022274325909"
            ]
          },
          "metadata": {},
          "execution_count": 26
        }
      ],
      "source": [
        "from re import S\n",
        "import pandas as pd\n",
        "base = pd.read_csv('census.csv')\n",
        "X = base.iloc[:, 0:14].values\n",
        "y = base.iloc[:, 14].values\n",
        "from sklearn.preprocessing import LabelEncoder\n",
        "label_encoder_X_1 = LabelEncoder()\n",
        "X[:,1] = label_encoder_X_1.fit_transform(X[:,1])\n",
        "X[:,3] = label_encoder_X_1.fit_transform(X[:,3])\n",
        "X[:,5] = label_encoder_X_1.fit_transform(X[:,5])\n",
        "X[:,6] = label_encoder_X_1.fit_transform(X[:,6])\n",
        "X[:,7] = label_encoder_X_1.fit_transform(X[:,7])\n",
        "X[:,8] = label_encoder_X_1.fit_transform(X[:,8])\n",
        "X[:,9] = label_encoder_X_1.fit_transform(X[:,9])\n",
        "X[:,13] = label_encoder_X_1.fit_transform(X[:,13])\n",
        "from sklearn.preprocessing import StandardScaler\n",
        "SS = StandardScaler()\n",
        "X = SS.fit_transform(X)\n",
        "from sklearn.model_selection import train_test_split\n",
        "X_train, X_test, y_train, y_test = train_test_split(X, y, test_size = 0.2, random_state = 0)\n",
        "from  sklearn.linear_model import LogisticRegression\n",
        "classifier = LogisticRegression(max_iter=12000, random_state = 0)\n",
        "classifier.fit(X_train, y_train)\n",
        "y_pred = classifier.predict(X_test)\n",
        "y_pred\n",
        "from sklearn.metrics import accuracy_score\n",
        "accuracy_score(y_test, y_pred)\n",
        "\n"
      ]
    }
  ]
}